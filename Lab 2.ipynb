{
 "cells": [
  {
   "cell_type": "code",
   "execution_count": 2,
   "metadata": {
    "collapsed": true
   },
   "outputs": [],
   "source": [
    "import pandas as pd\n",
    "import numpy as np\n",
    "import scipy as sp\n",
    "import plotly.plotly as py\n",
    "# Matplotlib for additional customization\n",
    "from matplotlib import pyplot as plt\n",
    "%matplotlib inline\n",
    "# Seaborn for plotting and styling\n",
    "import seaborn as sns\n"
   ]
  },
  {
   "cell_type": "markdown",
   "metadata": {},
   "source": [
    "# Import Data\n",
    "You can use pandas read_csv() function to import data. In the example below, we import a csv display it in a table using matplotlib:"
   ]
  },
  {
   "cell_type": "code",
   "execution_count": 34,
   "metadata": {},
   "outputs": [
    {
     "data": {
      "text/html": [
       "<div>\n",
       "<style>\n",
       "    .dataframe thead tr:only-child th {\n",
       "        text-align: right;\n",
       "    }\n",
       "\n",
       "    .dataframe thead th {\n",
       "        text-align: left;\n",
       "    }\n",
       "\n",
       "    .dataframe tbody tr th {\n",
       "        vertical-align: top;\n",
       "    }\n",
       "</style>\n",
       "<table border=\"1\" class=\"dataframe\">\n",
       "  <thead>\n",
       "    <tr style=\"text-align: right;\">\n",
       "      <th></th>\n",
       "      <th>Name</th>\n",
       "      <th>Gender</th>\n",
       "      <th>Height</th>\n",
       "      <th>GPA</th>\n",
       "      <th>Shoe</th>\n",
       "      <th>Sport</th>\n",
       "      <th>Friends</th>\n",
       "    </tr>\n",
       "    <tr>\n",
       "      <th>Number</th>\n",
       "      <th></th>\n",
       "      <th></th>\n",
       "      <th></th>\n",
       "      <th></th>\n",
       "      <th></th>\n",
       "      <th></th>\n",
       "      <th></th>\n",
       "    </tr>\n",
       "  </thead>\n",
       "  <tbody>\n",
       "    <tr>\n",
       "      <th>1</th>\n",
       "      <td>Dakota</td>\n",
       "      <td>Female</td>\n",
       "      <td>72</td>\n",
       "      <td>3.15</td>\n",
       "      <td>Sneaker</td>\n",
       "      <td>Basketball</td>\n",
       "      <td>307</td>\n",
       "    </tr>\n",
       "    <tr>\n",
       "      <th>2</th>\n",
       "      <td>Hayden</td>\n",
       "      <td>Female</td>\n",
       "      <td>68</td>\n",
       "      <td>3.50</td>\n",
       "      <td>Sandals</td>\n",
       "      <td>Tennis</td>\n",
       "      <td>335</td>\n",
       "    </tr>\n",
       "    <tr>\n",
       "      <th>3</th>\n",
       "      <td>Charlie</td>\n",
       "      <td>Male</td>\n",
       "      <td>61</td>\n",
       "      <td>1.10</td>\n",
       "      <td>Sandals</td>\n",
       "      <td>Softball</td>\n",
       "      <td>34</td>\n",
       "    </tr>\n",
       "    <tr>\n",
       "      <th>4</th>\n",
       "      <td>Kamryn</td>\n",
       "      <td>Male</td>\n",
       "      <td>66</td>\n",
       "      <td>2.18</td>\n",
       "      <td>Sneaker</td>\n",
       "      <td>Soccer</td>\n",
       "      <td>200</td>\n",
       "    </tr>\n",
       "    <tr>\n",
       "      <th>5</th>\n",
       "      <td>Emerson</td>\n",
       "      <td>Male</td>\n",
       "      <td>65</td>\n",
       "      <td>3.06</td>\n",
       "      <td>Sneaker</td>\n",
       "      <td>Soccer</td>\n",
       "      <td>213</td>\n",
       "    </tr>\n",
       "    <tr>\n",
       "      <th>6</th>\n",
       "      <td>Jessi</td>\n",
       "      <td>Female</td>\n",
       "      <td>61</td>\n",
       "      <td>2.41</td>\n",
       "      <td>Sandals</td>\n",
       "      <td>Basketball</td>\n",
       "      <td>202</td>\n",
       "    </tr>\n",
       "    <tr>\n",
       "      <th>7</th>\n",
       "      <td>Sawyer</td>\n",
       "      <td>Male</td>\n",
       "      <td>67</td>\n",
       "      <td>2.96</td>\n",
       "      <td>Sandals</td>\n",
       "      <td>Tennis</td>\n",
       "      <td>314</td>\n",
       "    </tr>\n",
       "    <tr>\n",
       "      <th>8</th>\n",
       "      <td>London</td>\n",
       "      <td>Female</td>\n",
       "      <td>64</td>\n",
       "      <td>3.98</td>\n",
       "      <td>Sneaker</td>\n",
       "      <td>Soccer</td>\n",
       "      <td>436</td>\n",
       "    </tr>\n",
       "    <tr>\n",
       "      <th>9</th>\n",
       "      <td>John</td>\n",
       "      <td>Male</td>\n",
       "      <td>71</td>\n",
       "      <td>3.12</td>\n",
       "      <td>Sneaker</td>\n",
       "      <td>Tennis</td>\n",
       "      <td>356</td>\n",
       "    </tr>\n",
       "    <tr>\n",
       "      <th>10</th>\n",
       "      <td>Mary</td>\n",
       "      <td>Female</td>\n",
       "      <td>67</td>\n",
       "      <td>2.87</td>\n",
       "      <td>Sandals</td>\n",
       "      <td>Tennis</td>\n",
       "      <td>345</td>\n",
       "    </tr>\n",
       "    <tr>\n",
       "      <th>11</th>\n",
       "      <td>Paul</td>\n",
       "      <td>Male</td>\n",
       "      <td>71</td>\n",
       "      <td>4.00</td>\n",
       "      <td>Sneaker</td>\n",
       "      <td>Soccer</td>\n",
       "      <td>878</td>\n",
       "    </tr>\n",
       "    <tr>\n",
       "      <th>12</th>\n",
       "      <td>Christian</td>\n",
       "      <td>Male</td>\n",
       "      <td>69</td>\n",
       "      <td>2.10</td>\n",
       "      <td>Sneaker</td>\n",
       "      <td>Basketball</td>\n",
       "      <td>342</td>\n",
       "    </tr>\n",
       "    <tr>\n",
       "      <th>13</th>\n",
       "      <td>Deb</td>\n",
       "      <td>Female</td>\n",
       "      <td>66</td>\n",
       "      <td>3.20</td>\n",
       "      <td>Sneaker</td>\n",
       "      <td>Soccer</td>\n",
       "      <td>425</td>\n",
       "    </tr>\n",
       "    <tr>\n",
       "      <th>14</th>\n",
       "      <td>Catalina</td>\n",
       "      <td>Female</td>\n",
       "      <td>67</td>\n",
       "      <td>3.50</td>\n",
       "      <td>Sneaker</td>\n",
       "      <td>Soccer</td>\n",
       "      <td>264</td>\n",
       "    </tr>\n",
       "    <tr>\n",
       "      <th>15</th>\n",
       "      <td>Eduardo</td>\n",
       "      <td>Male</td>\n",
       "      <td>89</td>\n",
       "      <td>3.60</td>\n",
       "      <td>Sneaker</td>\n",
       "      <td>Tennis</td>\n",
       "      <td>263</td>\n",
       "    </tr>\n",
       "  </tbody>\n",
       "</table>\n",
       "</div>"
      ],
      "text/plain": [
       "             Name  Gender  Height   GPA     Shoe       Sport  Friends\n",
       "Number                                                               \n",
       "1          Dakota  Female      72  3.15  Sneaker  Basketball      307\n",
       "2          Hayden  Female      68  3.50  Sandals      Tennis      335\n",
       "3         Charlie    Male      61  1.10  Sandals    Softball       34\n",
       "4          Kamryn    Male      66  2.18  Sneaker      Soccer      200\n",
       "5         Emerson    Male      65  3.06  Sneaker      Soccer      213\n",
       "6           Jessi  Female      61  2.41  Sandals  Basketball      202\n",
       "7          Sawyer    Male      67  2.96  Sandals      Tennis      314\n",
       "8          London  Female      64  3.98  Sneaker      Soccer      436\n",
       "9            John    Male      71  3.12  Sneaker      Tennis      356\n",
       "10           Mary  Female      67  2.87  Sandals      Tennis      345\n",
       "11           Paul    Male      71  4.00  Sneaker      Soccer      878\n",
       "12      Christian    Male      69  2.10  Sneaker  Basketball      342\n",
       "13            Deb  Female      66  3.20  Sneaker      Soccer      425\n",
       "14       Catalina  Female      67  3.50  Sneaker      Soccer      264\n",
       "15        Eduardo    Male      89  3.60  Sneaker      Tennis      263"
      ]
     },
     "execution_count": 34,
     "metadata": {},
     "output_type": "execute_result"
    }
   ],
   "source": [
    "# Read dataset\n",
    "df = pd.read_csv('students.csv', index_col=0)\n",
    "df"
   ]
  },
  {
   "cell_type": "code",
   "execution_count": 19,
   "metadata": {},
   "outputs": [
    {
     "data": {
      "text/plain": [
       "Name        object\n",
       "Gender      object\n",
       "Height       int64\n",
       "GPA        float64\n",
       "Shoe        object\n",
       "Sport       object\n",
       "Friends      int64\n",
       "dtype: object"
      ]
     },
     "execution_count": 19,
     "metadata": {},
     "output_type": "execute_result"
    }
   ],
   "source": [
    "df.dtypes"
   ]
  },
  {
   "cell_type": "code",
   "execution_count": 20,
   "metadata": {},
   "outputs": [
    {
     "data": {
      "text/html": [
       "<div>\n",
       "<style>\n",
       "    .dataframe thead tr:only-child th {\n",
       "        text-align: right;\n",
       "    }\n",
       "\n",
       "    .dataframe thead th {\n",
       "        text-align: left;\n",
       "    }\n",
       "\n",
       "    .dataframe tbody tr th {\n",
       "        vertical-align: top;\n",
       "    }\n",
       "</style>\n",
       "<table border=\"1\" class=\"dataframe\">\n",
       "  <thead>\n",
       "    <tr style=\"text-align: right;\">\n",
       "      <th></th>\n",
       "      <th>Height</th>\n",
       "      <th>GPA</th>\n",
       "      <th>Friends</th>\n",
       "    </tr>\n",
       "  </thead>\n",
       "  <tbody>\n",
       "    <tr>\n",
       "      <th>count</th>\n",
       "      <td>15.000000</td>\n",
       "      <td>15.000000</td>\n",
       "      <td>15.000000</td>\n",
       "    </tr>\n",
       "    <tr>\n",
       "      <th>mean</th>\n",
       "      <td>67.200000</td>\n",
       "      <td>2.982000</td>\n",
       "      <td>284.666667</td>\n",
       "    </tr>\n",
       "    <tr>\n",
       "      <th>std</th>\n",
       "      <td>3.629246</td>\n",
       "      <td>0.772521</td>\n",
       "      <td>101.397145</td>\n",
       "    </tr>\n",
       "    <tr>\n",
       "      <th>min</th>\n",
       "      <td>61.000000</td>\n",
       "      <td>1.100000</td>\n",
       "      <td>34.000000</td>\n",
       "    </tr>\n",
       "    <tr>\n",
       "      <th>25%</th>\n",
       "      <td>65.500000</td>\n",
       "      <td>2.640000</td>\n",
       "      <td>223.500000</td>\n",
       "    </tr>\n",
       "    <tr>\n",
       "      <th>50%</th>\n",
       "      <td>67.000000</td>\n",
       "      <td>3.120000</td>\n",
       "      <td>307.000000</td>\n",
       "    </tr>\n",
       "    <tr>\n",
       "      <th>75%</th>\n",
       "      <td>70.000000</td>\n",
       "      <td>3.500000</td>\n",
       "      <td>343.500000</td>\n",
       "    </tr>\n",
       "    <tr>\n",
       "      <th>max</th>\n",
       "      <td>73.000000</td>\n",
       "      <td>4.000000</td>\n",
       "      <td>436.000000</td>\n",
       "    </tr>\n",
       "  </tbody>\n",
       "</table>\n",
       "</div>"
      ],
      "text/plain": [
       "          Height        GPA     Friends\n",
       "count  15.000000  15.000000   15.000000\n",
       "mean   67.200000   2.982000  284.666667\n",
       "std     3.629246   0.772521  101.397145\n",
       "min    61.000000   1.100000   34.000000\n",
       "25%    65.500000   2.640000  223.500000\n",
       "50%    67.000000   3.120000  307.000000\n",
       "75%    70.000000   3.500000  343.500000\n",
       "max    73.000000   4.000000  436.000000"
      ]
     },
     "execution_count": 20,
     "metadata": {},
     "output_type": "execute_result"
    }
   ],
   "source": [
    "df.describe()"
   ]
  },
  {
   "cell_type": "code",
   "execution_count": 21,
   "metadata": {},
   "outputs": [
    {
     "data": {
      "text/plain": [
       "<seaborn.axisgrid.FacetGrid at 0x1134d3b70>"
      ]
     },
     "execution_count": 21,
     "metadata": {},
     "output_type": "execute_result"
    },
    {
     "data": {
      "image/png": "[encoded data removed]",
      "text/plain": [
       "<matplotlib.figure.Figure at 0x1134d3fd0>"
      ]
     },
     "metadata": {},
     "output_type": "display_data"
    }
   ],
   "source": [
    "sns.lmplot(x='Friends', y='GPA', data=df)"
   ]
  },
  {
   "cell_type": "code",
   "execution_count": 22,
   "metadata": {},
   "outputs": [
    {
     "data": {
      "text/plain": [
       "<seaborn.axisgrid.FacetGrid at 0x113394438>"
      ]
     },
     "execution_count": 22,
     "metadata": {},
     "output_type": "execute_result"
    },
    {
     "data": {
      "image/png": "[encoded data removed]",
      "text/plain": [
       "<matplotlib.figure.Figure at 0x113394400>"
      ]
     },
     "metadata": {},
     "output_type": "display_data"
    }
   ],
   "source": [
    "sns.lmplot(x='Height', y='GPA', data=df)"
   ]
  },
  {
   "cell_type": "code",
   "execution_count": 38,
   "metadata": {},
   "outputs": [
    {
     "data": {
      "text/plain": [
       "<matplotlib.axes._subplots.AxesSubplot at 0x11468c940>"
      ]
     },
     "execution_count": 38,
     "metadata": {},
     "output_type": "execute_result"
    },
    {
     "data": {
      "image/png": "[encoded data removed]",
      "text/plain": [
       "<matplotlib.figure.Figure at 0x114703550>"
      ]
     },
     "metadata": {},
     "output_type": "display_data"
    }
   ],
   "source": [
    "# Boxplot\n",
    "sns.boxplot(data=df)"
   ]
  },
  {
   "cell_type": "code",
   "execution_count": 35,
   "metadata": {},
   "outputs": [
    {
     "data": {
      "text/plain": [
       "<matplotlib.axes._subplots.AxesSubplot at 0x11420f908>"
      ]
     },
     "execution_count": 35,
     "metadata": {},
     "output_type": "execute_result"
    },
    {
     "data": {
      "image/png": "[encoded data removed]",
      "text/plain": [
       "<matplotlib.figure.Figure at 0x1142096a0>"
      ]
     },
     "metadata": {},
     "output_type": "display_data"
    }
   ],
   "source": [
    "# Pre-format DataFrame\n",
    "stats_df1 = df.drop(['Friends','GPA'], axis=1)\n",
    "# New boxplot using stats_df\n",
    "sns.boxplot(data=stats_df1)"
   ]
  },
  {
   "cell_type": "code",
   "execution_count": 36,
   "metadata": {},
   "outputs": [
    {
     "data": {
      "text/plain": [
       "<matplotlib.axes._subplots.AxesSubplot at 0x114354eb8>"
      ]
     },
     "execution_count": 36,
     "metadata": {},
     "output_type": "execute_result"
    },
    {
     "data": {
      "image/png": "[encoded data removed]",
      "text/plain": [
       "<matplotlib.figure.Figure at 0x114477940>"
      ]
     },
     "metadata": {},
     "output_type": "display_data"
    }
   ],
   "source": [
    "# Pre-format DataFrame\n",
    "stats_df2 = df.drop(['Height','Friends'], axis=1)\n",
    "# New boxplot using stats_df\n",
    "sns.boxplot(data=stats_df2)"
   ]
  },
  {
   "cell_type": "code",
   "execution_count": 37,
   "metadata": {},
   "outputs": [
    {
     "data": {
      "text/plain": [
       "<matplotlib.axes._subplots.AxesSubplot at 0x11448a630>"
      ]
     },
     "execution_count": 37,
     "metadata": {},
     "output_type": "execute_result"
    },
    {
     "data": {
      "image/png": "[encoded data removed]",
      "text/plain": [
       "<matplotlib.figure.Figure at 0x1143433c8>"
      ]
     },
     "metadata": {},
     "output_type": "display_data"
    }
   ],
   "source": [
    "# Pre-format DataFrame\n",
    "stats_df1 = df.drop(['Height','GPA'], axis=1)\n",
    "# New boxplot using stats_df\n",
    "sns.boxplot(data=stats_df1)"
   ]
  },
  {
   "cell_type": "code",
   "execution_count": 27,
   "metadata": {
    "collapsed": true
   },
   "outputs": [],
   "source": [
    "sport_type_colors = ['#78C850',  # Basketball\n",
    "                     '#F08030',  # Tennis\n",
    "                     '#6890F0',  # Softball\n",
    "                     '#A8B820',  # Soccer\n",
    "                    ]"
   ]
  },
  {
   "cell_type": "code",
   "execution_count": 28,
   "metadata": {},
   "outputs": [
    {
     "data": {
      "text/plain": [
       "(array([0, 1, 2, 3]), <a list of 4 Text xticklabel objects>)"
      ]
     },
     "execution_count": 28,
     "metadata": {},
     "output_type": "execute_result"
    },
    {
     "data": {
      "image/png": "[encoded data removed]",
      "text/plain": [
       "<matplotlib.figure.Figure at 0x113e29080>"
      ]
     },
     "metadata": {},
     "output_type": "display_data"
    }
   ],
   "source": [
    "# Count Plot (a.k.a. Bar Plot)\n",
    "sns.countplot(x='Sport', data=df,palette=sport_type_colors)\n",
    "# Rotate x-labels\n",
    "plt.xticks(rotation=-45)"
   ]
  },
  {
   "cell_type": "code",
   "execution_count": 29,
   "metadata": {},
   "outputs": [
    {
     "data": {
      "text/plain": [
       "<matplotlib.axes._subplots.AxesSubplot at 0x113e556d8>"
      ]
     },
     "execution_count": 29,
     "metadata": {},
     "output_type": "execute_result"
    },
    {
     "data": {
      "image/png": "[encoded data removed]",
      "text/plain": [
       "<matplotlib.figure.Figure at 0x113f65208>"
      ]
     },
     "metadata": {},
     "output_type": "display_data"
    }
   ],
   "source": [
    "sns.countplot(y='Sport', data=df,palette=sport_type_colors)"
   ]
  },
  {
   "cell_type": "code",
   "execution_count": 30,
   "metadata": {
    "collapsed": true
   },
   "outputs": [],
   "source": [
    "shoe_type_colors = ['#78C850',  # Sneaker\n",
    "                    '#F08030',  # Sandals\n",
    "                  ]"
   ]
  },
  {
   "cell_type": "code",
   "execution_count": 31,
   "metadata": {},
   "outputs": [
    {
     "data": {
      "text/plain": [
       "(array([0, 1]), <a list of 2 Text xticklabel objects>)"
      ]
     },
     "execution_count": 31,
     "metadata": {},
     "output_type": "execute_result"
    },
    {
     "data": {
      "image/png": "[encoded data removed]",
      "text/plain": [
       "<matplotlib.figure.Figure at 0x11404cef0>"
      ]
     },
     "metadata": {},
     "output_type": "display_data"
    }
   ],
   "source": [
    "sns.countplot(x='Shoe', data=df,palette=shoe_type_colors)\n",
    " \n",
    "# Rotate x-labels\n",
    "plt.xticks(rotation=-45)"
   ]
  },
  {
   "cell_type": "code",
   "execution_count": 32,
   "metadata": {},
   "outputs": [
    {
     "data": {
      "text/plain": [
       "<matplotlib.axes._subplots.AxesSubplot at 0x114041208>"
      ]
     },
     "execution_count": 32,
     "metadata": {},
     "output_type": "execute_result"
    },
    {
     "data": {
      "image/png": "[encoded data removed]",
      "text/plain": [
       "<matplotlib.figure.Figure at 0x1140e36a0>"
      ]
     },
     "metadata": {},
     "output_type": "display_data"
    }
   ],
   "source": [
    "sns.countplot(y='Shoe', data=df,palette=shoe_type_colors)"
   ]
  },
  {
   "cell_type": "code",
   "execution_count": null,
   "metadata": {
    "collapsed": true
   },
   "outputs": [],
   "source": []
  },
  {
   "cell_type": "code",
   "execution_count": null,
   "metadata": {
    "collapsed": true
   },
   "outputs": [],
   "source": []
  }
 ],
 "metadata": {
  "kernelspec": {
   "display_name": "Python 3",
   "language": "python",
   "name": "python3"
  },
  "language_info": {
   "codemirror_mode": {
    "name": "ipython",
    "version": 3
   },
   "file_extension": ".py",
   "mimetype": "text/x-python",
   "name": "python",
   "nbconvert_exporter": "python",
   "pygments_lexer": "ipython3",
   "version": "3.6.1"
  }
 },
 "nbformat": 4,
 "nbformat_minor": 2
}
